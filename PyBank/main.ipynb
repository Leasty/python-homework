{
 "cells": [
  {
   "cell_type": "code",
   "execution_count": 38,
   "metadata": {},
   "outputs": [],
   "source": [
    "import pandas as pd\n",
    "import numpy as np\n",
    "import numpy_financial as npf"
   ]
  },
  {
   "cell_type": "code",
   "execution_count": 19,
   "metadata": {},
   "outputs": [],
   "source": [
    "from pathlib import Path"
   ]
  },
  {
   "cell_type": "code",
   "execution_count": 9,
   "metadata": {},
   "outputs": [
    {
     "data": {
      "text/plain": [
       "WindowsPath('C:/Users/jayri/GitHub/python-homework/PyBank')"
      ]
     },
     "execution_count": 9,
     "metadata": {},
     "output_type": "execute_result"
    }
   ],
   "source": [
    "Path.cwd()"
   ]
  },
  {
   "cell_type": "code",
   "execution_count": 26,
   "metadata": {},
   "outputs": [
    {
     "name": "stdout",
     "output_type": "stream",
     "text": [
      "        Date  Profit/Losses\n",
      "0   Jan-2010         867884\n",
      "1   Feb-2010         984655\n",
      "2   Mar-2010         322013\n",
      "3   Apr-2010         -69417\n",
      "4   May-2010         310503\n",
      "..       ...            ...\n",
      "81  Oct-2016         102685\n",
      "82  Nov-2016         795914\n",
      "83  Dec-2016          60988\n",
      "84  Jan-2017         138230\n",
      "85  Feb-2017         671099\n",
      "\n",
      "[86 rows x 2 columns]\n"
     ]
    }
   ],
   "source": [
    "PnL = pd.read_csv('C:/Users/jayri/GitHub/python-homework/PyBank/week_2_homework_PyBank_Resources_budget_data.csv')\n",
    "print (PnL)"
   ]
  },
  {
   "cell_type": "code",
   "execution_count": 29,
   "metadata": {},
   "outputs": [
    {
     "name": "stdout",
     "output_type": "stream",
     "text": [
      "Index(['Date', 'Profit/Losses'], dtype='object')\n"
     ]
    }
   ],
   "source": [
    "print(PnL.columns)"
   ]
  },
  {
   "cell_type": "code",
   "execution_count": 31,
   "metadata": {},
   "outputs": [
    {
     "name": "stdout",
     "output_type": "stream",
     "text": [
      "0     Jan-2010\n",
      "1     Feb-2010\n",
      "2     Mar-2010\n",
      "3     Apr-2010\n",
      "4     May-2010\n",
      "        ...   \n",
      "81    Oct-2016\n",
      "82    Nov-2016\n",
      "83    Dec-2016\n",
      "84    Jan-2017\n",
      "85    Feb-2017\n",
      "Name: Date, Length: 86, dtype: object\n"
     ]
    }
   ],
   "source": [
    "print(PnL['Date'])"
   ]
  },
  {
   "cell_type": "code",
   "execution_count": 44,
   "metadata": {},
   "outputs": [
    {
     "name": "stdout",
     "output_type": "stream",
     "text": [
      "86\n"
     ]
    }
   ],
   "source": [
    "total_months = len(PnL['Date'])\n",
    "print (total_months)"
   ]
  },
  {
   "cell_type": "code",
   "execution_count": 43,
   "metadata": {},
   "outputs": [
    {
     "name": "stdout",
     "output_type": "stream",
     "text": [
      "38382578\n"
     ]
    }
   ],
   "source": [
    "net_total = sum(PnL['Profit/Losses'])\n",
    "print (net_total)"
   ]
  },
  {
   "cell_type": "code",
   "execution_count": 51,
   "metadata": {},
   "outputs": [
    {
     "name": "stdout",
     "output_type": "stream",
     "text": [
      "446309.0465116279\n"
     ]
    }
   ],
   "source": [
    "average_changes = net_total / total_months\n",
    "print (average_changes)"
   ]
  },
  {
   "cell_type": "code",
   "execution_count": 53,
   "metadata": {},
   "outputs": [
    {
     "name": "stdout",
     "output_type": "stream",
     "text": [
      "1170593\n"
     ]
    }
   ],
   "source": [
    "greatest_increase = max(PnL[\"Profit/Losses\"])\n",
    "print (greatest_increase)"
   ]
  },
  {
   "cell_type": "code",
   "execution_count": 61,
   "metadata": {},
   "outputs": [
    {
     "name": "stdout",
     "output_type": "stream",
     "text": [
      "[0     867884\n",
      "1     984655\n",
      "2     322013\n",
      "3     -69417\n",
      "4     310503\n",
      "       ...  \n",
      "81    102685\n",
      "82    795914\n",
      "83     60988\n",
      "84    138230\n",
      "85    671099\n",
      "Name: Profit/Losses, Length: 86, dtype: int64]\n"
     ]
    }
   ],
   "source": [
    "PnL_Monthly_List = [(PnL['Profit/Losses'])]\n",
    "print (PnL_Monthly_List)"
   ]
  },
  {
   "cell_type": "code",
   "execution_count": 63,
   "metadata": {},
   "outputs": [],
   "source": [
    "PnL_Date_List = PnL['Date']"
   ]
  },
  {
   "cell_type": "code",
   "execution_count": 180,
   "metadata": {},
   "outputs": [
    {
     "data": {
      "text/plain": [
       "array([[  116771,  -662642,  -391430,   379920,   212354,   510239,\n",
       "         -428211,  -821271,   693918,   416278,  -974163,   860159,\n",
       "        -1115009,  1033048,    95318,  -308093,    99052,  -521393,\n",
       "          605450,   231727,   -65187,  -702716,   177975, -1065544,\n",
       "         1926159,  -917805,   898730,  -334262,  -246499,   -64055,\n",
       "        -1529236,  1497596,   304914,  -635801,   398319,  -183161,\n",
       "          -37864,  -253689,   403655,    94168,   306877,   -83000,\n",
       "          210462, -2196167,  1465222,  -956983,  1838447,  -468003,\n",
       "          -64602,   206242,  -242155,  -449079,   315198,   241099,\n",
       "          111540,   365942,  -219310,  -368665,   409837,   151210,\n",
       "         -110244,  -341938, -1212159,   683246,   -70825,   335594,\n",
       "          417334,  -272194,  -236462,   657432,  -211262,  -128237,\n",
       "        -1750387,   925441,   932089,  -311434,   267252, -1876758,\n",
       "         1733696,   198551,  -665765,   693229,  -734926,    77242,\n",
       "          532869]], dtype=int64)"
      ]
     },
     "execution_count": 180,
     "metadata": {},
     "output_type": "execute_result"
    }
   ],
   "source": [
    "np.diff (PnL_Monthly_List)"
   ]
  },
  {
   "cell_type": "code",
   "execution_count": 181,
   "metadata": {},
   "outputs": [],
   "source": [
    "superman = np.diff (PnL_Monthly_List)"
   ]
  },
  {
   "cell_type": "code",
   "execution_count": 182,
   "metadata": {},
   "outputs": [],
   "source": [
    "for numbers in (superman):\n",
    "    megaman = sum (numbers)"
   ]
  },
  {
   "cell_type": "code",
   "execution_count": 186,
   "metadata": {},
   "outputs": [],
   "source": [
    "ironman = megaman / (total_months -1)"
   ]
  },
  {
   "cell_type": "code",
   "execution_count": 190,
   "metadata": {},
   "outputs": [
    {
     "data": {
      "text/plain": [
       "-2315.12"
      ]
     },
     "execution_count": 190,
     "metadata": {},
     "output_type": "execute_result"
    }
   ],
   "source": [
    "round (ironman,2)"
   ]
  },
  {
   "cell_type": "code",
   "execution_count": 192,
   "metadata": {},
   "outputs": [
    {
     "data": {
      "text/plain": [
       "array([  116771,  -662642,  -391430,   379920,   212354,   510239,\n",
       "        -428211,  -821271,   693918,   416278,  -974163,   860159,\n",
       "       -1115009,  1033048,    95318,  -308093,    99052,  -521393,\n",
       "         605450,   231727,   -65187,  -702716,   177975, -1065544,\n",
       "        1926159,  -917805,   898730,  -334262,  -246499,   -64055,\n",
       "       -1529236,  1497596,   304914,  -635801,   398319,  -183161,\n",
       "         -37864,  -253689,   403655,    94168,   306877,   -83000,\n",
       "         210462, -2196167,  1465222,  -956983,  1838447,  -468003,\n",
       "         -64602,   206242,  -242155,  -449079,   315198,   241099,\n",
       "         111540,   365942,  -219310,  -368665,   409837,   151210,\n",
       "        -110244,  -341938, -1212159,   683246,   -70825,   335594,\n",
       "         417334,  -272194,  -236462,   657432,  -211262,  -128237,\n",
       "       -1750387,   925441,   932089,  -311434,   267252, -1876758,\n",
       "        1733696,   198551,  -665765,   693229,  -734926,    77242,\n",
       "         532869], dtype=int64)"
      ]
     },
     "execution_count": 192,
     "metadata": {},
     "output_type": "execute_result"
    }
   ],
   "source": [
    "np.diff (PnL['Profit/Losses'])"
   ]
  },
  {
   "cell_type": "code",
   "execution_count": 256,
   "metadata": {},
   "outputs": [],
   "source": [
    "mario = [ 0,  116771,  -662642,  -391430,   379920,   212354,   510239,  -428211,  -821271,\n",
    "   693918,   416278,  -974163,   860159, -1115009,  1033048,    95318,  -308093,\n",
    "    99052,  -521393,   605450,   231727,   -65187,  -702716,   177975, -1065544,\n",
    "  1926159,  -917805,   898730,  -334262,  -246499,   -64055, -1529236,  1497596,\n",
    "   304914,  -635801,   398319,  -183161,   -37864,  -253689,   403655,    94168,\n",
    "   306877,   -83000,   210462, -2196167,  1465222,  -956983,  1838447,  -468003,\n",
    "   -64602,   206242,  -242155,  -449079,   315198,   241099,   111540,   365942,\n",
    "  -219310,  -368665,   409837,   151210,  -110244,  -341938, -1212159,   683246,\n",
    "   -70825,   335594,   417334,  -272194,  -236462,   657432,  -211262,  -128237,\n",
    " -1750387,   925441,   932089,  -311434,   267252, -1876758,  1733696,   198551,\n",
    "  -665765,   693229,  -734926,    77242,   532869]"
   ]
  },
  {
   "cell_type": "code",
   "execution_count": null,
   "metadata": {},
   "outputs": [],
   "source": []
  },
  {
   "cell_type": "code",
   "execution_count": 234,
   "metadata": {},
   "outputs": [],
   "source": [
    "sonic2 = pd.DataFrame ()"
   ]
  },
  {
   "cell_type": "code",
   "execution_count": 270,
   "metadata": {},
   "outputs": [],
   "source": [
    "sonic2['Date'] = (PnL['Date'])"
   ]
  },
  {
   "cell_type": "code",
   "execution_count": 271,
   "metadata": {},
   "outputs": [],
   "source": [
    "sonic2['Profit/Losses'] = mario"
   ]
  },
  {
   "cell_type": "code",
   "execution_count": 272,
   "metadata": {},
   "outputs": [
    {
     "data": {
      "text/html": [
       "<div>\n",
       "<style scoped>\n",
       "    .dataframe tbody tr th:only-of-type {\n",
       "        vertical-align: middle;\n",
       "    }\n",
       "\n",
       "    .dataframe tbody tr th {\n",
       "        vertical-align: top;\n",
       "    }\n",
       "\n",
       "    .dataframe thead th {\n",
       "        text-align: right;\n",
       "    }\n",
       "</style>\n",
       "<table border=\"1\" class=\"dataframe\">\n",
       "  <thead>\n",
       "    <tr style=\"text-align: right;\">\n",
       "      <th></th>\n",
       "      <th>Date</th>\n",
       "      <th>Profit/Losses</th>\n",
       "    </tr>\n",
       "  </thead>\n",
       "  <tbody>\n",
       "    <tr>\n",
       "      <th>0</th>\n",
       "      <td>Jan-2010</td>\n",
       "      <td>0</td>\n",
       "    </tr>\n",
       "    <tr>\n",
       "      <th>1</th>\n",
       "      <td>Feb-2010</td>\n",
       "      <td>116771</td>\n",
       "    </tr>\n",
       "    <tr>\n",
       "      <th>2</th>\n",
       "      <td>Mar-2010</td>\n",
       "      <td>-662642</td>\n",
       "    </tr>\n",
       "    <tr>\n",
       "      <th>3</th>\n",
       "      <td>Apr-2010</td>\n",
       "      <td>-391430</td>\n",
       "    </tr>\n",
       "    <tr>\n",
       "      <th>4</th>\n",
       "      <td>May-2010</td>\n",
       "      <td>379920</td>\n",
       "    </tr>\n",
       "    <tr>\n",
       "      <th>...</th>\n",
       "      <td>...</td>\n",
       "      <td>...</td>\n",
       "    </tr>\n",
       "    <tr>\n",
       "      <th>81</th>\n",
       "      <td>Oct-2016</td>\n",
       "      <td>-665765</td>\n",
       "    </tr>\n",
       "    <tr>\n",
       "      <th>82</th>\n",
       "      <td>Nov-2016</td>\n",
       "      <td>693229</td>\n",
       "    </tr>\n",
       "    <tr>\n",
       "      <th>83</th>\n",
       "      <td>Dec-2016</td>\n",
       "      <td>-734926</td>\n",
       "    </tr>\n",
       "    <tr>\n",
       "      <th>84</th>\n",
       "      <td>Jan-2017</td>\n",
       "      <td>77242</td>\n",
       "    </tr>\n",
       "    <tr>\n",
       "      <th>85</th>\n",
       "      <td>Feb-2017</td>\n",
       "      <td>532869</td>\n",
       "    </tr>\n",
       "  </tbody>\n",
       "</table>\n",
       "<p>86 rows × 2 columns</p>\n",
       "</div>"
      ],
      "text/plain": [
       "        Date  Profit/Losses\n",
       "0   Jan-2010              0\n",
       "1   Feb-2010         116771\n",
       "2   Mar-2010        -662642\n",
       "3   Apr-2010        -391430\n",
       "4   May-2010         379920\n",
       "..       ...            ...\n",
       "81  Oct-2016        -665765\n",
       "82  Nov-2016         693229\n",
       "83  Dec-2016        -734926\n",
       "84  Jan-2017          77242\n",
       "85  Feb-2017         532869\n",
       "\n",
       "[86 rows x 2 columns]"
      ]
     },
     "execution_count": 272,
     "metadata": {},
     "output_type": "execute_result"
    }
   ],
   "source": [
    "sonic2"
   ]
  },
  {
   "cell_type": "code",
   "execution_count": 273,
   "metadata": {},
   "outputs": [
    {
     "name": "stdout",
     "output_type": "stream",
     "text": [
      "Date             Sep-2016\n",
      "Profit/Losses     1926159\n",
      "dtype: object\n"
     ]
    }
   ],
   "source": [
    "print(sonic2.max())"
   ]
  },
  {
   "cell_type": "code",
   "execution_count": 274,
   "metadata": {},
   "outputs": [
    {
     "name": "stdout",
     "output_type": "stream",
     "text": [
      "Date             Apr-2010\n",
      "Profit/Losses    -2196167\n",
      "dtype: object\n"
     ]
    }
   ],
   "source": [
    "print(sonic2.min())"
   ]
  },
  {
   "cell_type": "code",
   "execution_count": null,
   "metadata": {},
   "outputs": [],
   "source": []
  }
 ],
 "metadata": {
  "kernelspec": {
   "display_name": "Python 3",
   "language": "python",
   "name": "python3"
  },
  "language_info": {
   "codemirror_mode": {
    "name": "ipython",
    "version": 3
   },
   "file_extension": ".py",
   "mimetype": "text/x-python",
   "name": "python",
   "nbconvert_exporter": "python",
   "pygments_lexer": "ipython3",
   "version": "3.7.9"
  }
 },
 "nbformat": 4,
 "nbformat_minor": 4
}
