{
 "cells": [
  {
   "cell_type": "code",
   "execution_count": 38,
   "metadata": {},
   "outputs": [],
   "source": [
    "import pandas as pd\n",
    "import numpy as np\n",
    "import numpy_financial as npf"
   ]
  },
  {
   "cell_type": "code",
   "execution_count": 19,
   "metadata": {},
   "outputs": [],
   "source": [
    "from pathlib import Path"
   ]
  },
  {
   "cell_type": "code",
   "execution_count": 9,
   "metadata": {},
   "outputs": [
    {
     "data": {
      "text/plain": [
       "WindowsPath('C:/Users/jayri/GitHub/python-homework/PyBank')"
      ]
     },
     "execution_count": 9,
     "metadata": {},
     "output_type": "execute_result"
    }
   ],
   "source": [
    "Path.cwd()"
   ]
  },
  {
   "cell_type": "code",
   "execution_count": 26,
   "metadata": {},
   "outputs": [
    {
     "name": "stdout",
     "output_type": "stream",
     "text": [
      "        Date  Profit/Losses\n",
      "0   Jan-2010         867884\n",
      "1   Feb-2010         984655\n",
      "2   Mar-2010         322013\n",
      "3   Apr-2010         -69417\n",
      "4   May-2010         310503\n",
      "..       ...            ...\n",
      "81  Oct-2016         102685\n",
      "82  Nov-2016         795914\n",
      "83  Dec-2016          60988\n",
      "84  Jan-2017         138230\n",
      "85  Feb-2017         671099\n",
      "\n",
      "[86 rows x 2 columns]\n"
     ]
    }
   ],
   "source": [
    "PnL = pd.read_csv('C:/Users/jayri/GitHub/python-homework/PyBank/week_2_homework_PyBank_Resources_budget_data.csv')\n",
    "print (PnL)"
   ]
  },
  {
   "cell_type": "code",
   "execution_count": 29,
   "metadata": {},
   "outputs": [
    {
     "name": "stdout",
     "output_type": "stream",
     "text": [
      "Index(['Date', 'Profit/Losses'], dtype='object')\n"
     ]
    }
   ],
   "source": [
    "print(PnL.columns)"
   ]
  },
  {
   "cell_type": "code",
   "execution_count": 31,
   "metadata": {},
   "outputs": [
    {
     "name": "stdout",
     "output_type": "stream",
     "text": [
      "0     Jan-2010\n",
      "1     Feb-2010\n",
      "2     Mar-2010\n",
      "3     Apr-2010\n",
      "4     May-2010\n",
      "        ...   \n",
      "81    Oct-2016\n",
      "82    Nov-2016\n",
      "83    Dec-2016\n",
      "84    Jan-2017\n",
      "85    Feb-2017\n",
      "Name: Date, Length: 86, dtype: object\n"
     ]
    }
   ],
   "source": [
    "print(PnL['Date'])"
   ]
  },
  {
   "cell_type": "code",
   "execution_count": 44,
   "metadata": {},
   "outputs": [
    {
     "name": "stdout",
     "output_type": "stream",
     "text": [
      "86\n"
     ]
    }
   ],
   "source": [
    "total_months = len(PnL['Date'])\n",
    "print (total_months)"
   ]
  },
  {
   "cell_type": "code",
   "execution_count": 43,
   "metadata": {},
   "outputs": [
    {
     "name": "stdout",
     "output_type": "stream",
     "text": [
      "38382578\n"
     ]
    }
   ],
   "source": [
    "net_total = sum(PnL['Profit/Losses'])\n",
    "print (net_total)"
   ]
  },
  {
   "cell_type": "code",
   "execution_count": 51,
   "metadata": {},
   "outputs": [
    {
     "name": "stdout",
     "output_type": "stream",
     "text": [
      "446309.0465116279\n"
     ]
    }
   ],
   "source": [
    "average_changes = net_total / total_months\n",
    "print (average_changes)"
   ]
  },
  {
   "cell_type": "code",
   "execution_count": 53,
   "metadata": {},
   "outputs": [
    {
     "name": "stdout",
     "output_type": "stream",
     "text": [
      "1170593\n"
     ]
    }
   ],
   "source": [
    "greatest_increase = max(PnL[\"Profit/Losses\"])\n",
    "print (greatest_increase)"
   ]
  },
  {
   "cell_type": "code",
   "execution_count": 61,
   "metadata": {},
   "outputs": [
    {
     "name": "stdout",
     "output_type": "stream",
     "text": [
      "[0     867884\n",
      "1     984655\n",
      "2     322013\n",
      "3     -69417\n",
      "4     310503\n",
      "       ...  \n",
      "81    102685\n",
      "82    795914\n",
      "83     60988\n",
      "84    138230\n",
      "85    671099\n",
      "Name: Profit/Losses, Length: 86, dtype: int64]\n"
     ]
    }
   ],
   "source": [
    "PnL_Monthly_List = [(PnL['Profit/Losses'])]\n",
    "print (PnL_Monthly_List)"
   ]
  },
  {
   "cell_type": "code",
   "execution_count": 63,
   "metadata": {},
   "outputs": [],
   "source": [
    "PnL_Date_List = PnL['Date']"
   ]
  },
  {
   "cell_type": "code",
   "execution_count": 180,
   "metadata": {},
   "outputs": [
    {
     "data": {
      "text/plain": [
       "array([[  116771,  -662642,  -391430,   379920,   212354,   510239,\n",
       "         -428211,  -821271,   693918,   416278,  -974163,   860159,\n",
       "        -1115009,  1033048,    95318,  -308093,    99052,  -521393,\n",
       "          605450,   231727,   -65187,  -702716,   177975, -1065544,\n",
       "         1926159,  -917805,   898730,  -334262,  -246499,   -64055,\n",
       "        -1529236,  1497596,   304914,  -635801,   398319,  -183161,\n",
       "          -37864,  -253689,   403655,    94168,   306877,   -83000,\n",
       "          210462, -2196167,  1465222,  -956983,  1838447,  -468003,\n",
       "          -64602,   206242,  -242155,  -449079,   315198,   241099,\n",
       "          111540,   365942,  -219310,  -368665,   409837,   151210,\n",
       "         -110244,  -341938, -1212159,   683246,   -70825,   335594,\n",
       "          417334,  -272194,  -236462,   657432,  -211262,  -128237,\n",
       "        -1750387,   925441,   932089,  -311434,   267252, -1876758,\n",
       "         1733696,   198551,  -665765,   693229,  -734926,    77242,\n",
       "          532869]], dtype=int64)"
      ]
     },
     "execution_count": 180,
     "metadata": {},
     "output_type": "execute_result"
    }
   ],
   "source": [
    "np.diff (PnL_Monthly_List)"
   ]
  },
  {
   "cell_type": "code",
   "execution_count": 181,
   "metadata": {},
   "outputs": [],
   "source": [
    "superman = np.diff (PnL_Monthly_List)"
   ]
  },
  {
   "cell_type": "code",
   "execution_count": 182,
   "metadata": {},
   "outputs": [],
   "source": [
    "for numbers in (superman):\n",
    "    megaman = sum (numbers)"
   ]
  },
  {
   "cell_type": "code",
   "execution_count": 186,
   "metadata": {},
   "outputs": [],
   "source": [
    "ironman = megaman / (total_months -1)"
   ]
  },
  {
   "cell_type": "code",
   "execution_count": 190,
   "metadata": {},
   "outputs": [
    {
     "data": {
      "text/plain": [
       "-2315.12"
      ]
     },
     "execution_count": 190,
     "metadata": {},
     "output_type": "execute_result"
    }
   ],
   "source": [
    "round (ironman,2)"
   ]
  },
  {
   "cell_type": "code",
   "execution_count": 192,
   "metadata": {},
   "outputs": [
    {
     "data": {
      "text/plain": [
       "array([  116771,  -662642,  -391430,   379920,   212354,   510239,\n",
       "        -428211,  -821271,   693918,   416278,  -974163,   860159,\n",
       "       -1115009,  1033048,    95318,  -308093,    99052,  -521393,\n",
       "         605450,   231727,   -65187,  -702716,   177975, -1065544,\n",
       "        1926159,  -917805,   898730,  -334262,  -246499,   -64055,\n",
       "       -1529236,  1497596,   304914,  -635801,   398319,  -183161,\n",
       "         -37864,  -253689,   403655,    94168,   306877,   -83000,\n",
       "         210462, -2196167,  1465222,  -956983,  1838447,  -468003,\n",
       "         -64602,   206242,  -242155,  -449079,   315198,   241099,\n",
       "         111540,   365942,  -219310,  -368665,   409837,   151210,\n",
       "        -110244,  -341938, -1212159,   683246,   -70825,   335594,\n",
       "         417334,  -272194,  -236462,   657432,  -211262,  -128237,\n",
       "       -1750387,   925441,   932089,  -311434,   267252, -1876758,\n",
       "        1733696,   198551,  -665765,   693229,  -734926,    77242,\n",
       "         532869], dtype=int64)"
      ]
     },
     "execution_count": 192,
     "metadata": {},
     "output_type": "execute_result"
    }
   ],
   "source": [
    "np.diff (PnL['Profit/Losses'])"
   ]
  },
  {
   "cell_type": "code",
   "execution_count": 193,
   "metadata": {},
   "outputs": [],
   "source": [
    "asdasd = []"
   ]
  },
  {
   "cell_type": "code",
   "execution_count": 222,
   "metadata": {},
   "outputs": [],
   "source": [
    "asdasd.append (superman)"
   ]
  },
  {
   "cell_type": "code",
   "execution_count": 223,
   "metadata": {},
   "outputs": [
    {
     "data": {
      "text/plain": [
       "[0     Jan-2010\n",
       " 1     Feb-2010\n",
       " 2     Mar-2010\n",
       " 3     Apr-2010\n",
       " 4     May-2010\n",
       "         ...   \n",
       " 81    Oct-2016\n",
       " 82    Nov-2016\n",
       " 83    Dec-2016\n",
       " 84    Jan-2017\n",
       " 85    Feb-2017\n",
       " Name: Date, Length: 86, dtype: object,\n",
       " array([[  116771,  -662642,  -391430,   379920,   212354,   510239,\n",
       "          -428211,  -821271,   693918,   416278,  -974163,   860159,\n",
       "         -1115009,  1033048,    95318,  -308093,    99052,  -521393,\n",
       "           605450,   231727,   -65187,  -702716,   177975, -1065544,\n",
       "          1926159,  -917805,   898730,  -334262,  -246499,   -64055,\n",
       "         -1529236,  1497596,   304914,  -635801,   398319,  -183161,\n",
       "           -37864,  -253689,   403655,    94168,   306877,   -83000,\n",
       "           210462, -2196167,  1465222,  -956983,  1838447,  -468003,\n",
       "           -64602,   206242,  -242155,  -449079,   315198,   241099,\n",
       "           111540,   365942,  -219310,  -368665,   409837,   151210,\n",
       "          -110244,  -341938, -1212159,   683246,   -70825,   335594,\n",
       "           417334,  -272194,  -236462,   657432,  -211262,  -128237,\n",
       "         -1750387,   925441,   932089,  -311434,   267252, -1876758,\n",
       "          1733696,   198551,  -665765,   693229,  -734926,    77242,\n",
       "           532869]], dtype=int64),\n",
       " array([[  116771,  -662642,  -391430,   379920,   212354,   510239,\n",
       "          -428211,  -821271,   693918,   416278,  -974163,   860159,\n",
       "         -1115009,  1033048,    95318,  -308093,    99052,  -521393,\n",
       "           605450,   231727,   -65187,  -702716,   177975, -1065544,\n",
       "          1926159,  -917805,   898730,  -334262,  -246499,   -64055,\n",
       "         -1529236,  1497596,   304914,  -635801,   398319,  -183161,\n",
       "           -37864,  -253689,   403655,    94168,   306877,   -83000,\n",
       "           210462, -2196167,  1465222,  -956983,  1838447,  -468003,\n",
       "           -64602,   206242,  -242155,  -449079,   315198,   241099,\n",
       "           111540,   365942,  -219310,  -368665,   409837,   151210,\n",
       "          -110244,  -341938, -1212159,   683246,   -70825,   335594,\n",
       "           417334,  -272194,  -236462,   657432,  -211262,  -128237,\n",
       "         -1750387,   925441,   932089,  -311434,   267252, -1876758,\n",
       "          1733696,   198551,  -665765,   693229,  -734926,    77242,\n",
       "           532869]], dtype=int64)]"
      ]
     },
     "execution_count": 223,
     "metadata": {},
     "output_type": "execute_result"
    }
   ],
   "source": [
    "asdasd"
   ]
  },
  {
   "cell_type": "code",
   "execution_count": 195,
   "metadata": {},
   "outputs": [
    {
     "name": "stdout",
     "output_type": "stream",
     "text": [
      "[0     Jan-2010\n",
      "1     Feb-2010\n",
      "2     Mar-2010\n",
      "3     Apr-2010\n",
      "4     May-2010\n",
      "        ...   \n",
      "81    Oct-2016\n",
      "82    Nov-2016\n",
      "83    Dec-2016\n",
      "84    Jan-2017\n",
      "85    Feb-2017\n",
      "Name: Date, Length: 86, dtype: object]\n"
     ]
    }
   ],
   "source": [
    "print (asdasd)"
   ]
  },
  {
   "cell_type": "code",
   "execution_count": 224,
   "metadata": {},
   "outputs": [],
   "source": [
    "micky = []"
   ]
  },
  {
   "cell_type": "code",
   "execution_count": 225,
   "metadata": {},
   "outputs": [],
   "source": [
    "micky.append (superman)"
   ]
  },
  {
   "cell_type": "code",
   "execution_count": 226,
   "metadata": {},
   "outputs": [],
   "source": [
    "micky.insert (0,0)"
   ]
  },
  {
   "cell_type": "code",
   "execution_count": 227,
   "metadata": {},
   "outputs": [
    {
     "data": {
      "text/plain": [
       "[0,\n",
       " array([[  116771,  -662642,  -391430,   379920,   212354,   510239,\n",
       "          -428211,  -821271,   693918,   416278,  -974163,   860159,\n",
       "         -1115009,  1033048,    95318,  -308093,    99052,  -521393,\n",
       "           605450,   231727,   -65187,  -702716,   177975, -1065544,\n",
       "          1926159,  -917805,   898730,  -334262,  -246499,   -64055,\n",
       "         -1529236,  1497596,   304914,  -635801,   398319,  -183161,\n",
       "           -37864,  -253689,   403655,    94168,   306877,   -83000,\n",
       "           210462, -2196167,  1465222,  -956983,  1838447,  -468003,\n",
       "           -64602,   206242,  -242155,  -449079,   315198,   241099,\n",
       "           111540,   365942,  -219310,  -368665,   409837,   151210,\n",
       "          -110244,  -341938, -1212159,   683246,   -70825,   335594,\n",
       "           417334,  -272194,  -236462,   657432,  -211262,  -128237,\n",
       "         -1750387,   925441,   932089,  -311434,   267252, -1876758,\n",
       "          1733696,   198551,  -665765,   693229,  -734926,    77242,\n",
       "           532869]], dtype=int64)]"
      ]
     },
     "execution_count": 227,
     "metadata": {},
     "output_type": "execute_result"
    }
   ],
   "source": [
    "micky"
   ]
  },
  {
   "cell_type": "code",
   "execution_count": 197,
   "metadata": {},
   "outputs": [],
   "source": [
    "sonic = pd.DataFrame ()"
   ]
  },
  {
   "cell_type": "code",
   "execution_count": 200,
   "metadata": {},
   "outputs": [],
   "source": [
    "sonic['Date'] = (PnL['Date'])"
   ]
  },
  {
   "cell_type": "code",
   "execution_count": 229,
   "metadata": {},
   "outputs": [
    {
     "ename": "TypeError",
     "evalue": "unhashable type: 'numpy.ndarray'",
     "output_type": "error",
     "traceback": [
      "\u001b[1;31m---------------------------------------------------------------------------\u001b[0m",
      "\u001b[1;31mTypeError\u001b[0m                                 Traceback (most recent call last)",
      "\u001b[1;32m<ipython-input-229-e92661dc6768>\u001b[0m in \u001b[0;36m<module>\u001b[1;34m\u001b[0m\n\u001b[1;32m----> 1\u001b[1;33m \u001b[0msonic\u001b[0m \u001b[1;33m[\u001b[0m\u001b[0mmicky\u001b[0m\u001b[1;33m]\u001b[0m \u001b[1;33m=\u001b[0m \u001b[1;33m[\u001b[0m\u001b[0mmicky\u001b[0m\u001b[1;33m]\u001b[0m\u001b[1;33m\u001b[0m\u001b[1;33m\u001b[0m\u001b[0m\n\u001b[0m",
      "\u001b[1;32m~\\anaconda3\\envs\\dev\\lib\\site-packages\\pandas\\core\\frame.py\u001b[0m in \u001b[0;36m__setitem__\u001b[1;34m(self, key, value)\u001b[0m\n\u001b[0;32m   3035\u001b[0m             \u001b[0mself\u001b[0m\u001b[1;33m.\u001b[0m\u001b[0m_setitem_frame\u001b[0m\u001b[1;33m(\u001b[0m\u001b[0mkey\u001b[0m\u001b[1;33m,\u001b[0m \u001b[0mvalue\u001b[0m\u001b[1;33m)\u001b[0m\u001b[1;33m\u001b[0m\u001b[1;33m\u001b[0m\u001b[0m\n\u001b[0;32m   3036\u001b[0m         \u001b[1;32melif\u001b[0m \u001b[0misinstance\u001b[0m\u001b[1;33m(\u001b[0m\u001b[0mkey\u001b[0m\u001b[1;33m,\u001b[0m \u001b[1;33m(\u001b[0m\u001b[0mSeries\u001b[0m\u001b[1;33m,\u001b[0m \u001b[0mnp\u001b[0m\u001b[1;33m.\u001b[0m\u001b[0mndarray\u001b[0m\u001b[1;33m,\u001b[0m \u001b[0mlist\u001b[0m\u001b[1;33m,\u001b[0m \u001b[0mIndex\u001b[0m\u001b[1;33m)\u001b[0m\u001b[1;33m)\u001b[0m\u001b[1;33m:\u001b[0m\u001b[1;33m\u001b[0m\u001b[1;33m\u001b[0m\u001b[0m\n\u001b[1;32m-> 3037\u001b[1;33m             \u001b[0mself\u001b[0m\u001b[1;33m.\u001b[0m\u001b[0m_setitem_array\u001b[0m\u001b[1;33m(\u001b[0m\u001b[0mkey\u001b[0m\u001b[1;33m,\u001b[0m \u001b[0mvalue\u001b[0m\u001b[1;33m)\u001b[0m\u001b[1;33m\u001b[0m\u001b[1;33m\u001b[0m\u001b[0m\n\u001b[0m\u001b[0;32m   3038\u001b[0m         \u001b[1;32melse\u001b[0m\u001b[1;33m:\u001b[0m\u001b[1;33m\u001b[0m\u001b[1;33m\u001b[0m\u001b[0m\n\u001b[0;32m   3039\u001b[0m             \u001b[1;31m# set column\u001b[0m\u001b[1;33m\u001b[0m\u001b[1;33m\u001b[0m\u001b[1;33m\u001b[0m\u001b[0m\n",
      "\u001b[1;32m~\\anaconda3\\envs\\dev\\lib\\site-packages\\pandas\\core\\frame.py\u001b[0m in \u001b[0;36m_setitem_array\u001b[1;34m(self, key, value)\u001b[0m\n\u001b[0;32m   3067\u001b[0m                 \u001b[0mself\u001b[0m\u001b[1;33m.\u001b[0m\u001b[0mloc\u001b[0m\u001b[1;33m.\u001b[0m\u001b[0m_ensure_listlike_indexer\u001b[0m\u001b[1;33m(\u001b[0m\u001b[0mkey\u001b[0m\u001b[1;33m,\u001b[0m \u001b[0maxis\u001b[0m\u001b[1;33m=\u001b[0m\u001b[1;36m1\u001b[0m\u001b[1;33m)\u001b[0m\u001b[1;33m\u001b[0m\u001b[1;33m\u001b[0m\u001b[0m\n\u001b[0;32m   3068\u001b[0m                 indexer = self.loc._get_listlike_indexer(\n\u001b[1;32m-> 3069\u001b[1;33m                     \u001b[0mkey\u001b[0m\u001b[1;33m,\u001b[0m \u001b[0maxis\u001b[0m\u001b[1;33m=\u001b[0m\u001b[1;36m1\u001b[0m\u001b[1;33m,\u001b[0m \u001b[0mraise_missing\u001b[0m\u001b[1;33m=\u001b[0m\u001b[1;32mFalse\u001b[0m\u001b[1;33m\u001b[0m\u001b[1;33m\u001b[0m\u001b[0m\n\u001b[0m\u001b[0;32m   3070\u001b[0m                 )[1]\n\u001b[0;32m   3071\u001b[0m                 \u001b[0mself\u001b[0m\u001b[1;33m.\u001b[0m\u001b[0m_check_setitem_copy\u001b[0m\u001b[1;33m(\u001b[0m\u001b[1;33m)\u001b[0m\u001b[1;33m\u001b[0m\u001b[1;33m\u001b[0m\u001b[0m\n",
      "\u001b[1;32m~\\anaconda3\\envs\\dev\\lib\\site-packages\\pandas\\core\\indexing.py\u001b[0m in \u001b[0;36m_get_listlike_indexer\u001b[1;34m(self, key, axis, raise_missing)\u001b[0m\n\u001b[0;32m   1247\u001b[0m \u001b[1;33m\u001b[0m\u001b[0m\n\u001b[0;32m   1248\u001b[0m         \u001b[1;32mif\u001b[0m \u001b[0max\u001b[0m\u001b[1;33m.\u001b[0m\u001b[0mis_unique\u001b[0m \u001b[1;32mand\u001b[0m \u001b[1;32mnot\u001b[0m \u001b[0mgetattr\u001b[0m\u001b[1;33m(\u001b[0m\u001b[0max\u001b[0m\u001b[1;33m,\u001b[0m \u001b[1;34m\"is_overlapping\"\u001b[0m\u001b[1;33m,\u001b[0m \u001b[1;32mFalse\u001b[0m\u001b[1;33m)\u001b[0m\u001b[1;33m:\u001b[0m\u001b[1;33m\u001b[0m\u001b[1;33m\u001b[0m\u001b[0m\n\u001b[1;32m-> 1249\u001b[1;33m             \u001b[0mindexer\u001b[0m \u001b[1;33m=\u001b[0m \u001b[0max\u001b[0m\u001b[1;33m.\u001b[0m\u001b[0mget_indexer_for\u001b[0m\u001b[1;33m(\u001b[0m\u001b[0mkeyarr\u001b[0m\u001b[1;33m)\u001b[0m\u001b[1;33m\u001b[0m\u001b[1;33m\u001b[0m\u001b[0m\n\u001b[0m\u001b[0;32m   1250\u001b[0m             \u001b[0mkeyarr\u001b[0m \u001b[1;33m=\u001b[0m \u001b[0max\u001b[0m\u001b[1;33m.\u001b[0m\u001b[0mreindex\u001b[0m\u001b[1;33m(\u001b[0m\u001b[0mkeyarr\u001b[0m\u001b[1;33m)\u001b[0m\u001b[1;33m[\u001b[0m\u001b[1;36m0\u001b[0m\u001b[1;33m]\u001b[0m\u001b[1;33m\u001b[0m\u001b[1;33m\u001b[0m\u001b[0m\n\u001b[0;32m   1251\u001b[0m         \u001b[1;32melse\u001b[0m\u001b[1;33m:\u001b[0m\u001b[1;33m\u001b[0m\u001b[1;33m\u001b[0m\u001b[0m\n",
      "\u001b[1;32m~\\anaconda3\\envs\\dev\\lib\\site-packages\\pandas\\core\\indexes\\base.py\u001b[0m in \u001b[0;36mget_indexer_for\u001b[1;34m(self, target, **kwargs)\u001b[0m\n\u001b[0;32m   4711\u001b[0m         \"\"\"\n\u001b[0;32m   4712\u001b[0m         \u001b[1;32mif\u001b[0m \u001b[0mself\u001b[0m\u001b[1;33m.\u001b[0m\u001b[0mis_unique\u001b[0m\u001b[1;33m:\u001b[0m\u001b[1;33m\u001b[0m\u001b[1;33m\u001b[0m\u001b[0m\n\u001b[1;32m-> 4713\u001b[1;33m             \u001b[1;32mreturn\u001b[0m \u001b[0mself\u001b[0m\u001b[1;33m.\u001b[0m\u001b[0mget_indexer\u001b[0m\u001b[1;33m(\u001b[0m\u001b[0mtarget\u001b[0m\u001b[1;33m,\u001b[0m \u001b[1;33m**\u001b[0m\u001b[0mkwargs\u001b[0m\u001b[1;33m)\u001b[0m\u001b[1;33m\u001b[0m\u001b[1;33m\u001b[0m\u001b[0m\n\u001b[0m\u001b[0;32m   4714\u001b[0m         \u001b[0mindexer\u001b[0m\u001b[1;33m,\u001b[0m \u001b[0m_\u001b[0m \u001b[1;33m=\u001b[0m \u001b[0mself\u001b[0m\u001b[1;33m.\u001b[0m\u001b[0mget_indexer_non_unique\u001b[0m\u001b[1;33m(\u001b[0m\u001b[0mtarget\u001b[0m\u001b[1;33m,\u001b[0m \u001b[1;33m**\u001b[0m\u001b[0mkwargs\u001b[0m\u001b[1;33m)\u001b[0m\u001b[1;33m\u001b[0m\u001b[1;33m\u001b[0m\u001b[0m\n\u001b[0;32m   4715\u001b[0m         \u001b[1;32mreturn\u001b[0m \u001b[0mindexer\u001b[0m\u001b[1;33m\u001b[0m\u001b[1;33m\u001b[0m\u001b[0m\n",
      "\u001b[1;32m~\\anaconda3\\envs\\dev\\lib\\site-packages\\pandas\\core\\indexes\\base.py\u001b[0m in \u001b[0;36mget_indexer\u001b[1;34m(self, target, method, limit, tolerance)\u001b[0m\n\u001b[0;32m   3004\u001b[0m                 )\n\u001b[0;32m   3005\u001b[0m \u001b[1;33m\u001b[0m\u001b[0m\n\u001b[1;32m-> 3006\u001b[1;33m             \u001b[0mindexer\u001b[0m \u001b[1;33m=\u001b[0m \u001b[0mself\u001b[0m\u001b[1;33m.\u001b[0m\u001b[0m_engine\u001b[0m\u001b[1;33m.\u001b[0m\u001b[0mget_indexer\u001b[0m\u001b[1;33m(\u001b[0m\u001b[0mtarget\u001b[0m\u001b[1;33m.\u001b[0m\u001b[0m_get_engine_target\u001b[0m\u001b[1;33m(\u001b[0m\u001b[1;33m)\u001b[0m\u001b[1;33m)\u001b[0m\u001b[1;33m\u001b[0m\u001b[1;33m\u001b[0m\u001b[0m\n\u001b[0m\u001b[0;32m   3007\u001b[0m \u001b[1;33m\u001b[0m\u001b[0m\n\u001b[0;32m   3008\u001b[0m         \u001b[1;32mreturn\u001b[0m \u001b[0mensure_platform_int\u001b[0m\u001b[1;33m(\u001b[0m\u001b[0mindexer\u001b[0m\u001b[1;33m)\u001b[0m\u001b[1;33m\u001b[0m\u001b[1;33m\u001b[0m\u001b[0m\n",
      "\u001b[1;32mpandas\\_libs\\index.pyx\u001b[0m in \u001b[0;36mpandas._libs.index.IndexEngine.get_indexer\u001b[1;34m()\u001b[0m\n",
      "\u001b[1;32mpandas\\_libs\\hashtable_class_helper.pxi\u001b[0m in \u001b[0;36mpandas._libs.hashtable.PyObjectHashTable.lookup\u001b[1;34m()\u001b[0m\n",
      "\u001b[1;31mTypeError\u001b[0m: unhashable type: 'numpy.ndarray'"
     ]
    }
   ],
   "source": [
    "sonic [micky] = [micky]"
   ]
  },
  {
   "cell_type": "code",
   "execution_count": 215,
   "metadata": {},
   "outputs": [
    {
     "data": {
      "text/html": [
       "<div>\n",
       "<style scoped>\n",
       "    .dataframe tbody tr th:only-of-type {\n",
       "        vertical-align: middle;\n",
       "    }\n",
       "\n",
       "    .dataframe tbody tr th {\n",
       "        vertical-align: top;\n",
       "    }\n",
       "\n",
       "    .dataframe thead th {\n",
       "        text-align: right;\n",
       "    }\n",
       "</style>\n",
       "<table border=\"1\" class=\"dataframe\">\n",
       "  <thead>\n",
       "    <tr style=\"text-align: right;\">\n",
       "      <th></th>\n",
       "      <th>Date</th>\n",
       "      <th>116771</th>\n",
       "      <th>-662642</th>\n",
       "      <th>-391430</th>\n",
       "      <th>379920</th>\n",
       "      <th>212354</th>\n",
       "      <th>510239</th>\n",
       "      <th>-428211</th>\n",
       "      <th>-821271</th>\n",
       "      <th>693918</th>\n",
       "      <th>...</th>\n",
       "      <th>445709</th>\n",
       "      <th>712961</th>\n",
       "      <th>-1163797</th>\n",
       "      <th>569899</th>\n",
       "      <th>768450</th>\n",
       "      <th>102685</th>\n",
       "      <th>795914</th>\n",
       "      <th>60988</th>\n",
       "      <th>138230</th>\n",
       "      <th>671099</th>\n",
       "    </tr>\n",
       "  </thead>\n",
       "  <tbody>\n",
       "    <tr>\n",
       "      <th>0</th>\n",
       "      <td>Jan-2010</td>\n",
       "      <td>116771</td>\n",
       "      <td>-662642</td>\n",
       "      <td>-391430</td>\n",
       "      <td>379920</td>\n",
       "      <td>212354</td>\n",
       "      <td>510239</td>\n",
       "      <td>-428211</td>\n",
       "      <td>-821271</td>\n",
       "      <td>693918</td>\n",
       "      <td>...</td>\n",
       "      <td>NaN</td>\n",
       "      <td>NaN</td>\n",
       "      <td>NaN</td>\n",
       "      <td>NaN</td>\n",
       "      <td>NaN</td>\n",
       "      <td>NaN</td>\n",
       "      <td>NaN</td>\n",
       "      <td>NaN</td>\n",
       "      <td>NaN</td>\n",
       "      <td>NaN</td>\n",
       "    </tr>\n",
       "    <tr>\n",
       "      <th>1</th>\n",
       "      <td>Feb-2010</td>\n",
       "      <td>116771</td>\n",
       "      <td>-662642</td>\n",
       "      <td>-391430</td>\n",
       "      <td>379920</td>\n",
       "      <td>212354</td>\n",
       "      <td>510239</td>\n",
       "      <td>-428211</td>\n",
       "      <td>-821271</td>\n",
       "      <td>693918</td>\n",
       "      <td>...</td>\n",
       "      <td>NaN</td>\n",
       "      <td>NaN</td>\n",
       "      <td>NaN</td>\n",
       "      <td>NaN</td>\n",
       "      <td>NaN</td>\n",
       "      <td>NaN</td>\n",
       "      <td>NaN</td>\n",
       "      <td>NaN</td>\n",
       "      <td>NaN</td>\n",
       "      <td>NaN</td>\n",
       "    </tr>\n",
       "    <tr>\n",
       "      <th>2</th>\n",
       "      <td>Mar-2010</td>\n",
       "      <td>116771</td>\n",
       "      <td>-662642</td>\n",
       "      <td>-391430</td>\n",
       "      <td>379920</td>\n",
       "      <td>212354</td>\n",
       "      <td>510239</td>\n",
       "      <td>-428211</td>\n",
       "      <td>-821271</td>\n",
       "      <td>693918</td>\n",
       "      <td>...</td>\n",
       "      <td>NaN</td>\n",
       "      <td>NaN</td>\n",
       "      <td>NaN</td>\n",
       "      <td>NaN</td>\n",
       "      <td>NaN</td>\n",
       "      <td>NaN</td>\n",
       "      <td>NaN</td>\n",
       "      <td>NaN</td>\n",
       "      <td>NaN</td>\n",
       "      <td>NaN</td>\n",
       "    </tr>\n",
       "    <tr>\n",
       "      <th>3</th>\n",
       "      <td>Apr-2010</td>\n",
       "      <td>116771</td>\n",
       "      <td>-662642</td>\n",
       "      <td>-391430</td>\n",
       "      <td>379920</td>\n",
       "      <td>212354</td>\n",
       "      <td>510239</td>\n",
       "      <td>-428211</td>\n",
       "      <td>-821271</td>\n",
       "      <td>693918</td>\n",
       "      <td>...</td>\n",
       "      <td>NaN</td>\n",
       "      <td>NaN</td>\n",
       "      <td>NaN</td>\n",
       "      <td>NaN</td>\n",
       "      <td>NaN</td>\n",
       "      <td>NaN</td>\n",
       "      <td>NaN</td>\n",
       "      <td>NaN</td>\n",
       "      <td>NaN</td>\n",
       "      <td>NaN</td>\n",
       "    </tr>\n",
       "    <tr>\n",
       "      <th>4</th>\n",
       "      <td>May-2010</td>\n",
       "      <td>116771</td>\n",
       "      <td>-662642</td>\n",
       "      <td>-391430</td>\n",
       "      <td>379920</td>\n",
       "      <td>212354</td>\n",
       "      <td>510239</td>\n",
       "      <td>-428211</td>\n",
       "      <td>-821271</td>\n",
       "      <td>693918</td>\n",
       "      <td>...</td>\n",
       "      <td>NaN</td>\n",
       "      <td>NaN</td>\n",
       "      <td>NaN</td>\n",
       "      <td>NaN</td>\n",
       "      <td>NaN</td>\n",
       "      <td>NaN</td>\n",
       "      <td>NaN</td>\n",
       "      <td>NaN</td>\n",
       "      <td>NaN</td>\n",
       "      <td>NaN</td>\n",
       "    </tr>\n",
       "    <tr>\n",
       "      <th>...</th>\n",
       "      <td>...</td>\n",
       "      <td>...</td>\n",
       "      <td>...</td>\n",
       "      <td>...</td>\n",
       "      <td>...</td>\n",
       "      <td>...</td>\n",
       "      <td>...</td>\n",
       "      <td>...</td>\n",
       "      <td>...</td>\n",
       "      <td>...</td>\n",
       "      <td>...</td>\n",
       "      <td>...</td>\n",
       "      <td>...</td>\n",
       "      <td>...</td>\n",
       "      <td>...</td>\n",
       "      <td>...</td>\n",
       "      <td>...</td>\n",
       "      <td>...</td>\n",
       "      <td>...</td>\n",
       "      <td>...</td>\n",
       "      <td>...</td>\n",
       "    </tr>\n",
       "    <tr>\n",
       "      <th>81</th>\n",
       "      <td>Oct-2016</td>\n",
       "      <td>116771</td>\n",
       "      <td>-662642</td>\n",
       "      <td>-391430</td>\n",
       "      <td>379920</td>\n",
       "      <td>212354</td>\n",
       "      <td>510239</td>\n",
       "      <td>-428211</td>\n",
       "      <td>-821271</td>\n",
       "      <td>693918</td>\n",
       "      <td>...</td>\n",
       "      <td>NaN</td>\n",
       "      <td>NaN</td>\n",
       "      <td>NaN</td>\n",
       "      <td>NaN</td>\n",
       "      <td>NaN</td>\n",
       "      <td>NaN</td>\n",
       "      <td>NaN</td>\n",
       "      <td>NaN</td>\n",
       "      <td>NaN</td>\n",
       "      <td>NaN</td>\n",
       "    </tr>\n",
       "    <tr>\n",
       "      <th>82</th>\n",
       "      <td>Nov-2016</td>\n",
       "      <td>116771</td>\n",
       "      <td>-662642</td>\n",
       "      <td>-391430</td>\n",
       "      <td>379920</td>\n",
       "      <td>212354</td>\n",
       "      <td>510239</td>\n",
       "      <td>-428211</td>\n",
       "      <td>-821271</td>\n",
       "      <td>693918</td>\n",
       "      <td>...</td>\n",
       "      <td>NaN</td>\n",
       "      <td>NaN</td>\n",
       "      <td>NaN</td>\n",
       "      <td>NaN</td>\n",
       "      <td>NaN</td>\n",
       "      <td>NaN</td>\n",
       "      <td>NaN</td>\n",
       "      <td>NaN</td>\n",
       "      <td>NaN</td>\n",
       "      <td>NaN</td>\n",
       "    </tr>\n",
       "    <tr>\n",
       "      <th>83</th>\n",
       "      <td>Dec-2016</td>\n",
       "      <td>116771</td>\n",
       "      <td>-662642</td>\n",
       "      <td>-391430</td>\n",
       "      <td>379920</td>\n",
       "      <td>212354</td>\n",
       "      <td>510239</td>\n",
       "      <td>-428211</td>\n",
       "      <td>-821271</td>\n",
       "      <td>693918</td>\n",
       "      <td>...</td>\n",
       "      <td>NaN</td>\n",
       "      <td>NaN</td>\n",
       "      <td>NaN</td>\n",
       "      <td>NaN</td>\n",
       "      <td>NaN</td>\n",
       "      <td>NaN</td>\n",
       "      <td>NaN</td>\n",
       "      <td>NaN</td>\n",
       "      <td>NaN</td>\n",
       "      <td>NaN</td>\n",
       "    </tr>\n",
       "    <tr>\n",
       "      <th>84</th>\n",
       "      <td>Jan-2017</td>\n",
       "      <td>116771</td>\n",
       "      <td>-662642</td>\n",
       "      <td>-391430</td>\n",
       "      <td>379920</td>\n",
       "      <td>212354</td>\n",
       "      <td>510239</td>\n",
       "      <td>-428211</td>\n",
       "      <td>-821271</td>\n",
       "      <td>693918</td>\n",
       "      <td>...</td>\n",
       "      <td>NaN</td>\n",
       "      <td>NaN</td>\n",
       "      <td>NaN</td>\n",
       "      <td>NaN</td>\n",
       "      <td>NaN</td>\n",
       "      <td>NaN</td>\n",
       "      <td>NaN</td>\n",
       "      <td>NaN</td>\n",
       "      <td>NaN</td>\n",
       "      <td>NaN</td>\n",
       "    </tr>\n",
       "    <tr>\n",
       "      <th>85</th>\n",
       "      <td>Feb-2017</td>\n",
       "      <td>116771</td>\n",
       "      <td>-662642</td>\n",
       "      <td>-391430</td>\n",
       "      <td>379920</td>\n",
       "      <td>212354</td>\n",
       "      <td>510239</td>\n",
       "      <td>-428211</td>\n",
       "      <td>-821271</td>\n",
       "      <td>693918</td>\n",
       "      <td>...</td>\n",
       "      <td>NaN</td>\n",
       "      <td>NaN</td>\n",
       "      <td>NaN</td>\n",
       "      <td>NaN</td>\n",
       "      <td>NaN</td>\n",
       "      <td>NaN</td>\n",
       "      <td>NaN</td>\n",
       "      <td>NaN</td>\n",
       "      <td>NaN</td>\n",
       "      <td>NaN</td>\n",
       "    </tr>\n",
       "  </tbody>\n",
       "</table>\n",
       "<p>86 rows × 172 columns</p>\n",
       "</div>"
      ],
      "text/plain": [
       "        Date  116771  -662642  -391430  379920  212354  510239  -428211  \\\n",
       "0   Jan-2010  116771  -662642  -391430  379920  212354  510239  -428211   \n",
       "1   Feb-2010  116771  -662642  -391430  379920  212354  510239  -428211   \n",
       "2   Mar-2010  116771  -662642  -391430  379920  212354  510239  -428211   \n",
       "3   Apr-2010  116771  -662642  -391430  379920  212354  510239  -428211   \n",
       "4   May-2010  116771  -662642  -391430  379920  212354  510239  -428211   \n",
       "..       ...     ...      ...      ...     ...     ...     ...      ...   \n",
       "81  Oct-2016  116771  -662642  -391430  379920  212354  510239  -428211   \n",
       "82  Nov-2016  116771  -662642  -391430  379920  212354  510239  -428211   \n",
       "83  Dec-2016  116771  -662642  -391430  379920  212354  510239  -428211   \n",
       "84  Jan-2017  116771  -662642  -391430  379920  212354  510239  -428211   \n",
       "85  Feb-2017  116771  -662642  -391430  379920  212354  510239  -428211   \n",
       "\n",
       "    -821271  693918  ...  445709  712961  -1163797  569899  768450  102685  \\\n",
       "0   -821271  693918  ...     NaN     NaN       NaN     NaN     NaN     NaN   \n",
       "1   -821271  693918  ...     NaN     NaN       NaN     NaN     NaN     NaN   \n",
       "2   -821271  693918  ...     NaN     NaN       NaN     NaN     NaN     NaN   \n",
       "3   -821271  693918  ...     NaN     NaN       NaN     NaN     NaN     NaN   \n",
       "4   -821271  693918  ...     NaN     NaN       NaN     NaN     NaN     NaN   \n",
       "..      ...     ...  ...     ...     ...       ...     ...     ...     ...   \n",
       "81  -821271  693918  ...     NaN     NaN       NaN     NaN     NaN     NaN   \n",
       "82  -821271  693918  ...     NaN     NaN       NaN     NaN     NaN     NaN   \n",
       "83  -821271  693918  ...     NaN     NaN       NaN     NaN     NaN     NaN   \n",
       "84  -821271  693918  ...     NaN     NaN       NaN     NaN     NaN     NaN   \n",
       "85  -821271  693918  ...     NaN     NaN       NaN     NaN     NaN     NaN   \n",
       "\n",
       "    795914  60988  138230  671099  \n",
       "0      NaN    NaN     NaN     NaN  \n",
       "1      NaN    NaN     NaN     NaN  \n",
       "2      NaN    NaN     NaN     NaN  \n",
       "3      NaN    NaN     NaN     NaN  \n",
       "4      NaN    NaN     NaN     NaN  \n",
       "..     ...    ...     ...     ...  \n",
       "81     NaN    NaN     NaN     NaN  \n",
       "82     NaN    NaN     NaN     NaN  \n",
       "83     NaN    NaN     NaN     NaN  \n",
       "84     NaN    NaN     NaN     NaN  \n",
       "85     NaN    NaN     NaN     NaN  \n",
       "\n",
       "[86 rows x 172 columns]"
      ]
     },
     "execution_count": 215,
     "metadata": {},
     "output_type": "execute_result"
    }
   ],
   "source": [
    "sonic"
   ]
  },
  {
   "cell_type": "code",
   "execution_count": null,
   "metadata": {},
   "outputs": [],
   "source": []
  }
 ],
 "metadata": {
  "kernelspec": {
   "display_name": "Python 3",
   "language": "python",
   "name": "python3"
  },
  "language_info": {
   "codemirror_mode": {
    "name": "ipython",
    "version": 3
   },
   "file_extension": ".py",
   "mimetype": "text/x-python",
   "name": "python",
   "nbconvert_exporter": "python",
   "pygments_lexer": "ipython3",
   "version": "3.7.9"
  }
 },
 "nbformat": 4,
 "nbformat_minor": 4
}
